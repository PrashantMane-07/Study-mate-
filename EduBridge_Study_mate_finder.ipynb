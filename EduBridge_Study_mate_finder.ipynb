{
 "cells": [
  {
   "cell_type": "code",
   "execution_count": 1,
   "id": "b80801a2-a7ab-4104-b0d0-bfa0759195c4",
   "metadata": {},
   "outputs": [],
   "source": [
    "import pandas as pd\n",
    "import numpy as np\n",
    "from sklearn.preprocessing import StandardScaler, OneHotEncoder\n",
    "from sklearn.compose import ColumnTransformer\n",
    "from sklearn.metrics.pairwise import cosine_similarity\n",
    "import gensim\n",
    "from gensim.models import Word2Vec"
   ]
  },
  {
   "cell_type": "code",
   "execution_count": 2,
   "id": "2d7ca648-d1ab-4e68-a6e1-04be9b157e56",
   "metadata": {},
   "outputs": [],
   "source": [
    "# Load Dataset\n",
    "file_path = \"Main_engineering_students_dataset.csv\"  # Replace with your dataset path\n",
    "data = pd.read_csv(file_path)"
   ]
  },
  {
   "cell_type": "code",
   "execution_count": 3,
   "id": "393fffd6-5c4d-4a7f-88ed-64058ba0386f",
   "metadata": {},
   "outputs": [
    {
     "name": "stdout",
     "output_type": "stream",
     "text": [
      "        Name                  Branch  Pass-out Year  Gender Skills_1  \\\n",
      "0  Student_1  Information Technology           2027    Male      C++   \n",
      "1  Student_2                   Civil           2027  Female     Java   \n",
      "2  Student_3             Electronics           2025    Male     Java   \n",
      "3  Student_4                   Civil           2024  Female    React   \n",
      "4  Student_5             Electronics           2024    Male     DBMS   \n",
      "\n",
      "     Skills_2 Skills_3       Interests_1   Interests_2       Interests_3  ...  \\\n",
      "0     Node.js     Java            Coding       Drawing      Data Science  ...   \n",
      "1         CSS      SQL            Sports        Coding            Gaming  ...   \n",
      "2     Node.js   Python  Machine Learning  UI/UX Design            Sports  ...   \n",
      "3  JavaScript     Java            Coding  UI/UX Design  Machine Learning  ...   \n",
      "4       React      C++           Drawing         Music            Gaming  ...   \n",
      "\n",
      "  Hobbies_2 Hobbies_3 10th Marks  12th Marks/Diploma Marks  \\\n",
      "0   Reading   Singing         72                        87   \n",
      "1   Reading  Painting         81                        67   \n",
      "2   Cricket  Football         78                        90   \n",
      "3   Reading   Singing         77                        98   \n",
      "4   Reading      Yoga         82                        86   \n",
      "\n",
      "          Study Goals Dream Companies Currently Working On Spoken Languages_1  \\\n",
      "0    Entrepreneurship            EPAM           Internship            English   \n",
      "1  Good Job Placement           Wipro   Final Year Project              Tamil   \n",
      "2    Entrepreneurship           Wipro     Personal Project              Hindi   \n",
      "3  Good Job Placement         Infosys   Final Year Project            Bengali   \n",
      "4  Good Job Placement       Microsoft     Personal Project            English   \n",
      "\n",
      "  Spoken Languages_2 Spoken Languages_3  \n",
      "0              Tamil             Telugu  \n",
      "1            English            Bengali  \n",
      "2            Marathi            Bengali  \n",
      "3            Marathi            English  \n",
      "4            Marathi              Hindi  \n",
      "\n",
      "[5 rows x 21 columns]\n"
     ]
    }
   ],
   "source": [
    "# Preview Dataset\n",
    "print(data.head())"
   ]
  },
  {
   "cell_type": "code",
   "execution_count": 4,
   "id": "ebe894b0-9f57-4db8-838b-2a048bbc3c6c",
   "metadata": {},
   "outputs": [],
   "source": [
    "# Retain the Name column separately for later use\n",
    "names = data['Name']"
   ]
  },
  {
   "cell_type": "code",
   "execution_count": 5,
   "id": "fb574648-a858-4156-b230-cfbc4100e046",
   "metadata": {},
   "outputs": [],
   "source": [
    "# Preprocessing Categorical Features\n",
    "categorical_features = ['Branch', 'Gender', 'Dream Companies']\n",
    "categorical_transformer = OneHotEncoder()"
   ]
  },
  {
   "cell_type": "code",
   "execution_count": 6,
   "id": "8828ed53-d6a1-4bce-b3db-6b00dcb6b5eb",
   "metadata": {},
   "outputs": [],
   "source": [
    "# Preprocessing Numerical Features\n",
    "numeric_features = ['10th Marks', '12th Marks/Diploma Marks', 'Pass-out Year']\n",
    "numeric_transformer = StandardScaler()"
   ]
  },
  {
   "cell_type": "code",
   "execution_count": 7,
   "id": "fc893a3d-4915-4f59-95cb-a3e10426b838",
   "metadata": {},
   "outputs": [],
   "source": [
    "# Concatenate Textual Features for Word2Vec\n",
    "textual_columns = [\n",
    "    'Skills_1', 'Skills_2', 'Skills_3',\n",
    "    'Interests_1', 'Interests_2', 'Interests_3',\n",
    "    'Hobbies_1', 'Hobbies_2', 'Hobbies_3',\n",
    "    'Spoken Languages_1', 'Spoken Languages_2', 'Spoken Languages_3',\n",
    "    'Currently Working On', 'Study Goals'\n",
    "]\n",
    "data['Combined_Text'] = data[textual_columns].fillna('').agg(' '.join, axis=1)\n"
   ]
  },
  {
   "cell_type": "code",
   "execution_count": 8,
   "id": "d9253b4c-6bf7-4bdb-846f-ff0fd66e4d52",
   "metadata": {},
   "outputs": [],
   "source": [
    "# Preprocess text: Tokenize sentences into words\n",
    "tokenized_sentences = [sentence.split() for sentence in data['Combined_Text'].tolist()]"
   ]
  },
  {
   "cell_type": "code",
   "execution_count": 9,
   "id": "4a6b0594-3a17-4bd2-83c2-c55106b97dc0",
   "metadata": {},
   "outputs": [
    {
     "name": "stdout",
     "output_type": "stream",
     "text": [
      "Training Word2Vec model on textual data...\n"
     ]
    }
   ],
   "source": [
    "# Train Word2Vec Model\n",
    "print(\"Training Word2Vec model on textual data...\")\n",
    "word2vec_model = Word2Vec(sentences=tokenized_sentences, vector_size=100, window=5, min_count=1, workers=4)\n",
    "word2vec_model.save(\"word2vec.model\")  # Optionally, save the model for future use\n"
   ]
  },
  {
   "cell_type": "code",
   "execution_count": 10,
   "id": "f392734a-ef55-4310-95d1-5f45571775d5",
   "metadata": {},
   "outputs": [],
   "source": [
    "# Generate Word2Vec Embeddings for each sentence\n",
    "def get_sentence_embedding(sentence, model):\n",
    "    tokens = sentence.split()\n",
    "    word_embeddings = [model.wv[word] for word in tokens if word in model.wv]\n",
    "    if word_embeddings:\n",
    "        return np.mean(word_embeddings, axis=0)\n",
    "    else:\n",
    "        return np.zeros(model.vector_size)"
   ]
  },
  {
   "cell_type": "code",
   "execution_count": 11,
   "id": "2614542f-3ad0-4677-aa3e-c0083358d09f",
   "metadata": {},
   "outputs": [],
   "source": [
    "# Generate embeddings for all sentences\n",
    "text_embeddings = [get_sentence_embedding(sentence, word2vec_model) for sentence in data['Combined_Text'].tolist()]\n"
   ]
  },
  {
   "cell_type": "code",
   "execution_count": 12,
   "id": "f969eb88-4971-463b-8f4f-7dd5f1343136",
   "metadata": {},
   "outputs": [],
   "source": [
    "# Preprocess Numerical and Categorical Features\n",
    "preprocessor = ColumnTransformer(\n",
    "    transformers=[\n",
    "        ('cat', categorical_transformer, categorical_features),\n",
    "        ('num', numeric_transformer, numeric_features)\n",
    "    ],\n",
    "    remainder='drop'\n",
    ")\n"
   ]
  },
  {
   "cell_type": "code",
   "execution_count": 13,
   "id": "7b409f52-f36e-4f5d-800a-fbff5f664645",
   "metadata": {},
   "outputs": [
    {
     "name": "stdout",
     "output_type": "stream",
     "text": [
      "Preprocessing categorical and numerical features...\n"
     ]
    }
   ],
   "source": [
    "# Apply Preprocessing\n",
    "print(\"Preprocessing categorical and numerical features...\")\n",
    "processed_features = preprocessor.fit_transform(data)\n"
   ]
  },
  {
   "cell_type": "code",
   "execution_count": 14,
   "id": "c6db24c3-2b63-4859-9528-9dcf32ab7d6d",
   "metadata": {},
   "outputs": [
    {
     "name": "stdout",
     "output_type": "stream",
     "text": [
      "Combining all feature vectors...\n"
     ]
    }
   ],
   "source": [
    "# Combine Word2Vec Textual Embeddings with Other Features(categorical and numerical features)\n",
    "print(\"Combining all feature vectors...\")\n",
    "final_features = np.hstack([text_embeddings, processed_features])\n"
   ]
  },
  {
   "cell_type": "code",
   "execution_count": 15,
   "id": "91b583d7-7c37-4f89-b4aa-229e2f1b64cc",
   "metadata": {},
   "outputs": [
    {
     "name": "stdout",
     "output_type": "stream",
     "text": [
      "Calculating cosine similarity matrix...\n"
     ]
    }
   ],
   "source": [
    "# Calculate Cosine Similarity based on final_features\n",
    "print(\"Calculating cosine similarity matrix...\")\n",
    "similarity_matrix = cosine_similarity(final_features)\n"
   ]
  },
  {
   "cell_type": "code",
   "execution_count": 29,
   "id": "039700a2-f34e-46b4-ae4a-9fb6af052ac6",
   "metadata": {},
   "outputs": [],
   "source": [
    "# Weighting for similarity calculation\n",
    "weights = {\n",
    "    'textual': 0.4,  # Textual features (Word2Vec embeddings)\n",
    "    'numerical': 0.3,  # Numerical features\n",
    "    'categorical': 0.3  # Categorical features\n",
    "}\n"
   ]
  },
  {
   "cell_type": "code",
   "execution_count": 30,
   "id": "e7e79d72-1641-45ac-a5ab-62c1a84c6b2b",
   "metadata": {},
   "outputs": [],
   "source": [
    "# Custom weighted similarity calculation\n",
    "def compute_weighted_similarity(student_idx, data, similarity_matrix, weights):\n",
    "    text_similarity = similarity_matrix[student_idx]\n",
    "    numerical_similarity = similarity_matrix[student_idx]  # Placeholder (reuse similarity_matrix for now)\n",
    "    categorical_similarity = similarity_matrix[student_idx]  # Placeholder (reuse similarity_matrix for now)\n",
    "\n",
    "    # Apply weights\n",
    "    weighted_similarity = (\n",
    "        weights['textual'] * text_similarity +\n",
    "        weights['numerical'] * numerical_similarity +\n",
    "        weights['categorical'] * categorical_similarity\n",
    "    )\n",
    "    return weighted_similarity"
   ]
  },
  {
   "cell_type": "code",
   "execution_count": 31,
   "id": "276714ad-7ffd-42a3-902b-e7c592ac7360",
   "metadata": {},
   "outputs": [
    {
     "name": "stdout",
     "output_type": "stream",
     "text": [
      "Calculating weighted similarity matrix...\n"
     ]
    }
   ],
   "source": [
    "# Calculate Weighted Similarity Matrix\n",
    "print(\"Calculating weighted similarity matrix...\")\n",
    "weighted_similarity_matrix = np.zeros((len(data), len(data)))\n",
    "for i in range(len(data)):\n",
    "    weighted_similarity_matrix[i] = compute_weighted_similarity(i, data, similarity_matrix, weights)\n"
   ]
  },
  {
   "cell_type": "code",
   "execution_count": 45,
   "id": "024a9ede-e6c1-42dd-bedd-da81cb018ea1",
   "metadata": {},
   "outputs": [],
   "source": [
    "# Recommendation Function\n",
    "def recommend_study_mates(student_name, data, similarity_matrix, top_n=5):\n",
    "    # Find the index of the student\n",
    "    if student_name not in data['Name'].values:\n",
    "        print(f\"Student '{student_name}' not found in the dataset!\")\n",
    "        return\n",
    "\n",
    "    student_idx = data[data['Name'] == student_name].index[0]\n",
    "\n",
    "    # Retrieve similarity scores for the student\n",
    "    similarity_scores = similarity_matrix[student_idx]\n",
    "\n",
    "    # Sort by similarity scores in descending order\n",
    "    similar_students_idx = np.argsort(similarity_scores)[::-1]\n",
    "\n",
    "    # Exclude the student themself from recommendations\n",
    "    similar_students_idx = [idx for idx in similar_students_idx if idx != student_idx]\n",
    "\n",
    "    # Get top N recommendations\n",
    "    top_similar_students = similar_students_idx[:top_n]\n",
    "\n",
    "    # Prepare the output for recommendations\n",
    "    recommendations = data.iloc[top_similar_students][[\n",
    "        'Name', 'Branch', 'Pass-out Year', 'Gender', 'Skills_1', 'Skills_2', 'Skills_3',\n",
    "        'Interests_1', 'Interests_2', 'Interests_3', 'Hobbies_1', 'Hobbies_2', 'Hobbies_3',\n",
    "        '10th Marks', '12th Marks/Diploma Marks', 'Study Goals', 'Dream Companies',\n",
    "        'Currently Working On', 'Spoken Languages_1', 'Spoken Languages_2', 'Spoken Languages_3'\n",
    "    ]]\n",
    "    recommendations['Similarity'] = similarity_scores[top_similar_students] * 100  # Convert to percentage\n",
    "\n",
    "    # Print the features of the input student\n",
    "    student_features = data.iloc[student_idx][[\n",
    "        'Name', 'Branch', 'Pass-out Year', 'Gender', 'Skills_1', 'Skills_2', 'Skills_3',\n",
    "        'Interests_1', 'Interests_2', 'Interests_3', 'Hobbies_1', 'Hobbies_2', 'Hobbies_3',\n",
    "        '10th Marks', '12th Marks/Diploma Marks', 'Study Goals', 'Dream Companies',\n",
    "        'Currently Working On', 'Spoken Languages_1', 'Spoken Languages_2', 'Spoken Languages_3'\n",
    "    ]]\n",
    "\n",
    "    print(f\"\\nFeatures of {student_name}:\\n\")\n",
    "    print(f\"Name: {student_features['Name']}\")\n",
    "    print(f\"Branch: {student_features['Branch']}\")\n",
    "    print(f\"Pass-out Year: {student_features['Pass-out Year']}\")\n",
    "    print(f\"Gender: {student_features['Gender']}\")\n",
    "    print(f\"Skills: {student_features['Skills_1']}, {student_features['Skills_2']}, {student_features['Skills_3']}\")\n",
    "    print(f\"Interests: {student_features['Interests_1']}, {student_features['Interests_2']}, {student_features['Interests_3']}\")\n",
    "    print(f\"Hobbies: {student_features['Hobbies_1']}, {student_features['Hobbies_2']}, {student_features['Hobbies_3']}\")\n",
    "    print(f\"10th Marks: {student_features['10th Marks']}\")\n",
    "    print(f\"12th Marks/Diploma Marks: {student_features['12th Marks/Diploma Marks']}\")\n",
    "    print(f\"Study Goals: {student_features['Study Goals']}\")\n",
    "    print(f\"Dream Companies: {student_features['Dream Companies']}\")\n",
    "    print(f\"Currently Working On: {student_features['Currently Working On']}\")\n",
    "    print(f\"Spoken Languages: {student_features['Spoken Languages_1']}, {student_features['Spoken Languages_2']}, {student_features['Spoken Languages_3']}\\n\")\n",
    "\n",
    "    # Print the top N recommendations in the same structured format\n",
    "    print(f\"Top {top_n} Study Mate Recommendations for {student_name}:\\n\")\n",
    "    \n",
    "    for index, row in recommendations.iterrows():\n",
    "        print(f\"Name: {row['Name']}\")\n",
    "        print(f\"Branch: {row['Branch']}\")\n",
    "        print(f\"Pass-out Year: {row['Pass-out Year']}\")\n",
    "        print(f\"Gender: {row['Gender']}\")\n",
    "        print(f\"Skills: {row['Skills_1']}, {row['Skills_2']}, {row['Skills_3']}\")\n",
    "        print(f\"Interests: {row['Interests_1']}, {row['Interests_2']}, {row['Interests_3']}\")\n",
    "        print(f\"Hobbies: {row['Hobbies_1']}, {row['Hobbies_2']}, {row['Hobbies_3']}\")\n",
    "        print(f\"10th Marks: {row['10th Marks']}\")\n",
    "        print(f\"12th Marks/Diploma Marks: {row['12th Marks/Diploma Marks']}\")\n",
    "        print(f\"Study Goals: {row['Study Goals']}\")\n",
    "        print(f\"Dream Companies: {row['Dream Companies']}\")\n",
    "        print(f\"Currently Working On: {row['Currently Working On']}\")\n",
    "        print(f\"Spoken Languages: {row['Spoken Languages_1']}, {row['Spoken Languages_2']}, {row['Spoken Languages_3']}\")\n",
    "        print(f\"Similarity: {row['Similarity']:.6f}%\\n\")\n"
   ]
  },
  {
   "cell_type": "code",
   "execution_count": 51,
   "id": "b4534cc0-4113-4400-bd33-f94b423e6782",
   "metadata": {},
   "outputs": [
    {
     "name": "stdout",
     "output_type": "stream",
     "text": [
      "\n",
      "Features of Student_3:\n",
      "\n",
      "Name: Student_3\n",
      "Branch: Electronics\n",
      "Pass-out Year: 2025\n",
      "Gender: Male\n",
      "Skills: Java, Node.js, Python\n",
      "Interests: Machine Learning, UI/UX Design, Sports\n",
      "Hobbies: Gardening, Cricket, Football\n",
      "10th Marks: 78\n",
      "12th Marks/Diploma Marks: 90\n",
      "Study Goals: Entrepreneurship\n",
      "Dream Companies: Wipro\n",
      "Currently Working On: Personal Project\n",
      "Spoken Languages: Hindi, Marathi, Bengali\n",
      "\n",
      "Top 10 Study Mate Recommendations for Student_3:\n",
      "\n",
      "Name: Student_434\n",
      "Branch: Electronics\n",
      "Pass-out Year: 2026\n",
      "Gender: Male\n",
      "Skills: SQL, Python, Node.js\n",
      "Interests: Sports, Drawing, UI/UX Design\n",
      "Hobbies: Dancing, Yoga, Gardening\n",
      "10th Marks: 75\n",
      "12th Marks/Diploma Marks: 89\n",
      "Study Goals: Good Job Placement\n",
      "Dream Companies: Wipro\n",
      "Currently Working On: Personal Project\n",
      "Spoken Languages: Bengali, Marathi, Telugu\n",
      "Similarity: 95.606533%\n",
      "\n",
      "Name: Student_563\n",
      "Branch: Electronics\n",
      "Pass-out Year: 2024\n",
      "Gender: Male\n",
      "Skills: Python, React, Java\n",
      "Interests: Machine Learning, Coding, Music\n",
      "Hobbies: Gardening, Cricket, Reading\n",
      "10th Marks: 76\n",
      "12th Marks/Diploma Marks: 85\n",
      "Study Goals: Good Job Placement\n",
      "Dream Companies: Wipro\n",
      "Currently Working On: Internship\n",
      "Spoken Languages: Tamil, Marathi, Bengali\n",
      "Similarity: 94.168858%\n",
      "\n",
      "Name: Student_507\n",
      "Branch: Electronics\n",
      "Pass-out Year: 2026\n",
      "Gender: Male\n",
      "Skills: SQL, CSS, Java\n",
      "Interests: Machine Learning, Coding, Drawing\n",
      "Hobbies: Cricket, Singing, Painting\n",
      "10th Marks: 81\n",
      "12th Marks/Diploma Marks: 99\n",
      "Study Goals: Good Job Placement\n",
      "Dream Companies: Wipro\n",
      "Currently Working On: Internship\n",
      "Spoken Languages: Bengali, Tamil, Marathi\n",
      "Similarity: 93.339654%\n",
      "\n",
      "Name: Student_539\n",
      "Branch: Electronics\n",
      "Pass-out Year: 2026\n",
      "Gender: Male\n",
      "Skills: Java, SQL, DBMS\n",
      "Interests: Music, Machine Learning, Drawing\n",
      "Hobbies: Yoga, Singing, Gardening\n",
      "10th Marks: 64\n",
      "12th Marks/Diploma Marks: 92\n",
      "Study Goals: Good Job Placement\n",
      "Dream Companies: Wipro\n",
      "Currently Working On: Final Year Project\n",
      "Spoken Languages: English, Telugu, Tamil\n",
      "Similarity: 88.235056%\n",
      "\n",
      "Name: Student_319\n",
      "Branch: Electronics\n",
      "Pass-out Year: 2023\n",
      "Gender: Male\n",
      "Skills: React, C++, HTML\n",
      "Interests: Data Science, Music, Coding\n",
      "Hobbies: Gardening, Dancing, Yoga\n",
      "10th Marks: 86\n",
      "12th Marks/Diploma Marks: 97\n",
      "Study Goals: Good Job Placement\n",
      "Dream Companies: Wipro\n",
      "Currently Working On: Internship\n",
      "Spoken Languages: English, Hindi, Telugu\n",
      "Similarity: 84.245965%\n",
      "\n",
      "Name: Student_432\n",
      "Branch: Civil\n",
      "Pass-out Year: 2025\n",
      "Gender: Male\n",
      "Skills: C++, CSS, HTML\n",
      "Interests: Music, Drawing, UI/UX Design\n",
      "Hobbies: Gardening, Painting, Yoga\n",
      "10th Marks: 80\n",
      "12th Marks/Diploma Marks: 91\n",
      "Study Goals: Good Job Placement\n",
      "Dream Companies: Wipro\n",
      "Currently Working On: Internship\n",
      "Spoken Languages: Telugu, Tamil, English\n",
      "Similarity: 83.911271%\n",
      "\n",
      "Name: Student_516\n",
      "Branch: Electronics\n",
      "Pass-out Year: 2025\n",
      "Gender: Male\n",
      "Skills: JavaScript, React, Node.js\n",
      "Interests: Coding, UI/UX Design, Gaming\n",
      "Hobbies: Singing, Football, Dancing\n",
      "10th Marks: 78\n",
      "12th Marks/Diploma Marks: 97\n",
      "Study Goals: Entrepreneurship\n",
      "Dream Companies: Amazon\n",
      "Currently Working On: Personal Project\n",
      "Spoken Languages: Bengali, Telugu, English\n",
      "Similarity: 83.411762%\n",
      "\n",
      "Name: Student_358\n",
      "Branch: Electronics\n",
      "Pass-out Year: 2025\n",
      "Gender: Male\n",
      "Skills: Python, JavaScript, Node.js\n",
      "Interests: Machine Learning, Drawing, Music\n",
      "Hobbies: Singing, Dancing, Football\n",
      "10th Marks: 91\n",
      "12th Marks/Diploma Marks: 79\n",
      "Study Goals: Entrepreneurship\n",
      "Dream Companies: Wipro\n",
      "Currently Working On: Final Year Project\n",
      "Spoken Languages: Marathi, Telugu, English\n",
      "Similarity: 82.671848%\n",
      "\n",
      "Name: Student_414\n",
      "Branch: Electronics\n",
      "Pass-out Year: 2025\n",
      "Gender: Male\n",
      "Skills: DBMS, SQL, Java\n",
      "Interests: Data Science, UI/UX Design, Coding\n",
      "Hobbies: Dancing, Singing, Painting\n",
      "10th Marks: 74\n",
      "12th Marks/Diploma Marks: 87\n",
      "Study Goals: Good Job Placement\n",
      "Dream Companies: TCS\n",
      "Currently Working On: Final Year Project\n",
      "Spoken Languages: Marathi, Bengali, English\n",
      "Similarity: 82.312089%\n",
      "\n",
      "Name: Student_218\n",
      "Branch: Electronics\n",
      "Pass-out Year: 2025\n",
      "Gender: Female\n",
      "Skills: React, Node.js, HTML\n",
      "Interests: Gaming, Sports, Coding\n",
      "Hobbies: Yoga, Singing, Football\n",
      "10th Marks: 72\n",
      "12th Marks/Diploma Marks: 99\n",
      "Study Goals: Entrepreneurship\n",
      "Dream Companies: Wipro\n",
      "Currently Working On: Personal Project\n",
      "Spoken Languages: Marathi, Tamil, English\n",
      "Similarity: 81.708558%\n",
      "\n"
     ]
    }
   ],
   "source": [
    "# Example Usage\n",
    "recommend_study_mates('Student_3', data, weighted_similarity_matrix, top_n=10)\n"
   ]
  },
  {
   "cell_type": "code",
   "execution_count": null,
   "id": "13be0b19-7fd4-45b9-98f0-58608c01cf6f",
   "metadata": {},
   "outputs": [],
   "source": []
  }
 ],
 "metadata": {
  "kernelspec": {
   "display_name": "Python 3 (ipykernel)",
   "language": "python",
   "name": "python3"
  },
  "language_info": {
   "codemirror_mode": {
    "name": "ipython",
    "version": 3
   },
   "file_extension": ".py",
   "mimetype": "text/x-python",
   "name": "python",
   "nbconvert_exporter": "python",
   "pygments_lexer": "ipython3",
   "version": "3.12.7"
  }
 },
 "nbformat": 4,
 "nbformat_minor": 5
}
